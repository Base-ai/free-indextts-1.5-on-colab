{
  "cells": [
    {
      "cell_type": "code",
      "execution_count": null,
      "metadata": {
        "id": "EeKyLxBP4zKS"
      },
      "outputs": [],
      "source": [
        "# 安装工具链\n",
        "%pip install uv\n",
        "!uv tool install \"huggingface_hub[cli]\"\n"
      ]
    },
    {
      "cell_type": "code",
      "execution_count": null,
      "metadata": {
        "id": "oYEhLy7559Aq"
      },
      "outputs": [],
      "source": [
        "# ✅ Step 1: 获取最近n个提交\n",
        "import requests\n",
        "import ipywidgets as widgets\n",
        "from IPython.display import display\n",
        "import subprocess\n",
        "\n",
        "# 仓库信息\n",
        "repo = \"index-tts/index-tts\"\n",
        "commits_url = f\"https://api.github.com/repos/{repo}/commits\"\n",
        "response = requests.get(commits_url)\n",
        "commits = response.json()\n",
        "\n",
        "# 提取前两个提交 SHA 和信息\n",
        "options = []\n",
        "for commit in commits[:3]:\n",
        "    sha = commit[\"sha\"]\n",
        "    message = commit[\"commit\"][\"message\"]\n",
        "    options.append((f\"{message[:60]}... ({sha[:7]})\", sha))  # 显示前60字+SHA前7位\n",
        "\n",
        "# ✅ Step 2: 创建下拉菜单和按钮\n",
        "dropdown = widgets.Dropdown(\n",
        "    options=options,\n",
        "    description='选择版本:',\n",
        "    style={'description_width': 'initial'},\n",
        "    layout=widgets.Layout(width='80%')\n",
        ")\n",
        "\n",
        "button = widgets.Button(description=\"下载选定版本\", button_style='success')\n",
        "output = widgets.Output()\n",
        "\n",
        "# ✅ Step 3: 下载并解压所选版本\n",
        "def download_selected_version(sha):\n",
        "    url = f\"https://github.com/index-tts/index-tts/archive/{sha}.zip\"\n",
        "    subprocess.run([\"wget\", \"-O\", \"main.zip\", url])\n",
        "    subprocess.run([\"unzip\", \"main.zip\"])\n",
        "    subprocess.run([\"mv\", f\"index-tts-{sha}\", \"index-tts\"])\n",
        "    subprocess.run([\"rm\", \"main.zip\"])\n",
        "\n",
        "def on_button_clicked(b):\n",
        "    with output:\n",
        "        output.clear_output()\n",
        "        print(f\"正在下载版本：{dropdown.label}\")\n",
        "        download_selected_version(dropdown.value)\n",
        "        print(\"✅ 下载完成，已解压到 index-tts 文件夹\")\n",
        "\n",
        "button.on_click(on_button_clicked)\n",
        "\n",
        "# ✅ Step 4: 显示控件\n",
        "display(dropdown, button, output)\n"
      ]
    },
    {
      "cell_type": "code",
      "execution_count": null,
      "metadata": {
        "id": "PRitu4QwG3OK"
      },
      "outputs": [],
      "source": [
        "# 安装依赖\n",
        "!cd /content/index-tts/ && uv sync --all-extras"
      ]
    },
    {
      "cell_type": "code",
      "execution_count": null,
      "metadata": {
        "id": "HE0-ZMdv8n7J"
      },
      "outputs": [],
      "source": [
        "# 下载模型 checkpoints\n",
        "!hf download IndexTeam/IndexTTS-2 --local-dir=/content/index-tts/checkpoints"
      ]
    },
    {
      "cell_type": "code",
      "execution_count": 37,
      "metadata": {
        "colab": {
          "base_uri": "https://localhost:8080/"
        },
        "id": "H2wORndt-OBM",
        "outputId": "ea143a79-bfa3-49b3-ea6e-a18ead90ab11"
      },
      "outputs": [
        {
          "name": "stdout",
          "output_type": "stream",
          "text": [
            "/content/index-tts\n"
          ]
        }
      ],
      "source": [
        "# 为了直接利用 Gradio 的内网穿透功能\n",
        "# 需要对 index—tts/webui.py 进行修改\n",
        "\n",
        "# 如果因为 IndexTTS 官方 GitHub 仓库的更改造成本代码不可用\n",
        "# 还可以手动修改 webui.py ，在 launch 函数调用中加上 `share = True`\n",
        "\n",
        "\n",
        "%cd /content/index-tts\n",
        "\n",
        "launch_line = 'demo.launch(server_name=cmd_args.host, server_port=cmd_args.port)'\n",
        "launch_line_with_share = 'demo.launch(server_name=cmd_args.host, server_port=cmd_args.port, share=True)'\n",
        "\n",
        "with open(\"webui.py\", encoding='utf8') as f:\n",
        "  webui_with_share = []\n",
        "  for line in f.readlines():\n",
        "    if line.strip() == launch_line:\n",
        "      webui_with_share.append(line.replace(launch_line, launch_line_with_share))\n",
        "    else:\n",
        "      webui_with_share.append(line)\n",
        "\n",
        "  with open(\"webui_with_share.py\", 'w', encoding='utf8') as f:\n",
        "    f.writelines(webui_with_share)"
      ]
    },
    {
      "cell_type": "code",
      "execution_count": null,
      "metadata": {
        "id": "eU0HaMd0CFO-"
      },
      "outputs": [],
      "source": [
        "# 启动\n",
        "\n",
        "%cd /content/index-tts/\n",
        "!uv run webui_with_share.py"
      ]
    }
  ],
  "metadata": {
    "accelerator": "GPU",
    "colab": {
      "gpuType": "T4",
      "provenance": []
    },
    "kernelspec": {
      "display_name": "Python 3",
      "name": "python3"
    },
    "language_info": {
      "name": "python"
    }
  },
  "nbformat": 4,
  "nbformat_minor": 0
}
